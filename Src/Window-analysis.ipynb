{
 "cells": [
  {
   "cell_type": "code",
   "execution_count": null,
   "metadata": {},
   "outputs": [],
   "source": [
    "import pandas as pd\n",
    "import numpy as np   \n",
    "from tqdm import tqdm"
   ]
  },
  {
   "cell_type": "code",
   "execution_count": null,
   "metadata": {},
   "outputs": [],
   "source": [
    "#------------hg19-----------------------\n",
    "chromosome_length = {'chr1' : 249250621,\n",
    "'chr2':  243199373,\n",
    "'chr3':  198022430,\n",
    "'chr4':  191154276, \n",
    "'chr5':  180915260,\n",
    "'chr6':  171115067,\n",
    "'chr7':  159138663,\n",
    "'chr8' : 146364022,\n",
    "'chr9' : 141213431,\n",
    "'chr10' : 135534747,\n",
    "'chr11' : 135006516,\n",
    "'chr12' : 133851895,\n",
    "'chr13' : 115169878,\n",
    "'chr14' : 107349540,\n",
    "'chr15' : 102531392,\n",
    "'chr16' : 90354753,\n",
    "'chr17' : 81195210,\n",
    "'chr18' : 78077248,\n",
    "'chr20' : 63025520,\n",
    "'chr19' : 59128983,\n",
    "'chr22' : 51304566,\n",
    "'chr21' : 48129895,\n",
    "'chrY'  :59373566,\n",
    "'chrX'  :155270560}\n",
    "len(chromosome_length)"
   ]
  },
  {
   "cell_type": "code",
   "execution_count": null,
   "metadata": {},
   "outputs": [],
   "source": [
    "final_df1 = pd.DataFrame() \n",
    "final_df2 = pd.DataFrame()"
   ]
  },
  {
   "cell_type": "code",
   "execution_count": null,
   "metadata": {},
   "outputs": [],
   "source": [
    "#-------Read files------------\n",
    "CHUNKSIZE = 10**3\n",
    "df_iter = pd.read_csv('SomaticMutation.txt', sep='delimiter',delimiter = \"\\t\" ,chunksize= CHUNKSIZE,skiprows=2 ,header = None)#,header = None)#, skiprows=1)\n",
    "df_list = []\n",
    "for df in tqdm(df_iter):\n",
    "    df_list += [df.copy()]\n",
    "    \n",
    "df= pd.concat(df_list) \n",
    "print(len(df))\n",
    "df.head()"
   ]
  },
  {
   "cell_type": "code",
   "execution_count": null,
   "metadata": {},
   "outputs": [],
   "source": [
    "#-----window analysis-----\n",
    "final_df1 = pd.DataFrame()\n",
    "final_df2 = pd.DataFrame() \n",
    "removed_length = {}\n",
    "length_window=21;\n",
    "for i in range(1,23):\n",
    "    df2 = df[df[0] == str(i)]\n",
    "    removed_length[i] = df2.pivot_table(index=[5], aggfunc='size')\n",
    "    df3 = df2.drop_duplicates(subset=3, keep=\"first\")\n",
    "    print(len(df3))\n",
    "    df3[6] = (df3[1]/length_window).apply(np.ceil)\n",
    "    for i, row in df3.pivot_table(index=[6], aggfunc='size').iteritems():\n",
    "        df4 = df3[(df3[6] == i[1])]\n",
    "        df4[7] = df3.pivot_table(index=[6], aggfunc='size')[i]\n",
    "        final_df1 = pd.concat([final_df1, df4])"
   ]
  },
  {
   "cell_type": "code",
   "execution_count": null,
   "metadata": {},
   "outputs": [],
   "source": [
    "A = ['X','Y'] "
   ]
  },
  {
   "cell_type": "code",
   "execution_count": null,
   "metadata": {},
   "outputs": [],
   "source": [
    "for i in A: \n",
    "    df2 = df[df[0] == i]\n",
    "    removed_length[i] = df2.pivot_table(index=[5], aggfunc='size')\n",
    "    df3 = df2.drop_duplicates(subset=3, keep=\"first\")\n",
    "    print(len(df3))\n",
    "    df3[6] = (df3[1]/length_window).apply(np.ceil)\n",
    "    for i, row in df3.pivot_table(index=[6], aggfunc='size').iteritems():\n",
    "        df4 = df3[(df3[6] == i[1])]\n",
    "        df4[7] = df3.pivot_table(index=[6], aggfunc='size')[i]\n",
    "        final_df1 = pd.concat([final_df1, df4])"
   ]
  },
  {
   "cell_type": "code",
   "execution_count": null,
   "metadata": {},
   "outputs": [],
   "source": [
    "#------calculate number---------\n",
    "for i in range(1,23): \n",
    "    df2 = final_df1[final_df1[0] == str(i)]\n",
    "    for i, row in df2.pivot_table(index=[6], aggfunc='size').iteritems():\n",
    "        df3 = df2[(df2[6] == i)]\n",
    "        df3[8] = df2.pivot_table(index=[6], aggfunc='size')[i]\n",
    "        final_df2 = pd.concat([final_df2, df3])"
   ]
  },
  {
   "cell_type": "code",
   "execution_count": null,
   "metadata": {},
   "outputs": [],
   "source": [
    "for i in A: \n",
    "    df2 = final_df1[final_df1[0] == str(i)]\n",
    "    for i, row in df2.pivot_table(index=[6], aggfunc='size').iteritems():\n",
    "        df3 = df2[(df2[6] == i)]\n",
    "        df3[8] = df2.pivot_table(index=[6], aggfunc='size')[i]\n",
    "        final_df2 = pd.concat([final_df2, df3])"
   ]
  },
  {
   "cell_type": "code",
   "execution_count": null,
   "metadata": {},
   "outputs": [],
   "source": [
    "#-----save in one file----\n",
    "final_df2.to_csv('final_results.csv') "
   ]
  },
  {
   "cell_type": "code",
   "execution_count": null,
   "metadata": {},
   "outputs": [],
   "source": [
    "#-----save separately----\n",
    "for i in range(1,23): \n",
    "    df = final_df2[final_df2[5] == str(i)]\n",
    "    df.to_csv('final_result'+str(i)+ '.csv')"
   ]
  },
  {
   "cell_type": "code",
   "execution_count": null,
   "metadata": {},
   "outputs": [],
   "source": [
    "for i in A: \n",
    "    df = final_df2[final_df2[5] == str(i)]\n",
    "    df.to_csv('final_result'+i+ '.csv')"
   ]
  }
 ],
 "metadata": {
  "kernelspec": {
   "display_name": "Python 3",
   "language": "python",
   "name": "python3"
  },
  "language_info": {
   "codemirror_mode": {
    "name": "ipython",
    "version": 3
   },
   "file_extension": ".py",
   "mimetype": "text/x-python",
   "name": "python",
   "nbconvert_exporter": "python",
   "pygments_lexer": "ipython3",
   "version": "3.7.0"
  }
 },
 "nbformat": 4,
 "nbformat_minor": 2
}
